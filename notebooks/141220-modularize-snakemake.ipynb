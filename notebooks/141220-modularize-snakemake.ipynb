{
 "cells": [
  {
   "cell_type": "markdown",
   "metadata": {},
   "source": [
    " ### To do\n",
    "+ move as many expressions to the config file\n",
    "+ make a rule file for each rule\n",
    "+ make a unique wrapper for each command\n",
    "\n",
    "completed - did not use subworkflows since they only take a single core\n",
    "There was clashing between jupyter, roary, and prokka's dependencies.\n",
    "To avoid any more problems I made a conda env for each. Because of that the versions may be\n",
    "different than those specified and I should essentially re-run all the code (no need to re-run\n",
    "unicycler since it is in a wrapper)"
   ]
  },
  {
   "cell_type": "markdown",
   "metadata": {},
   "source": [
    "### installing mgefinder"
   ]
  },
  {
   "cell_type": "code",
   "execution_count": 1,
   "metadata": {
    "pycharm": {
     "name": "#%%\n"
    }
   },
   "outputs": [
    {
     "name": "stdout",
     "output_type": "stream",
     "text": [
      "d= 292\n"
     ]
    }
   ],
   "source": [
    "d=10**2 + 8*24\n",
    "print(\"d=\",d)"
   ]
  },
  {
   "cell_type": "code",
   "execution_count": 3,
   "metadata": {
    "pycharm": {
     "name": "#%%\n"
    }
   },
   "outputs": [
    {
     "name": "stdout",
     "output_type": "stream",
     "text": [
      "does this update?\n"
     ]
    }
   ],
   "source": [
    "print('does this update?')"
   ]
  }
 ],
 "metadata": {
  "kernelspec": {
   "display_name": "Python 3",
   "language": "python",
   "name": "python3"
  },
  "language_info": {
   "codemirror_mode": {
    "name": "ipython",
    "version": 3
   },
   "file_extension": ".py",
   "mimetype": "text/x-python",
   "name": "python",
   "nbconvert_exporter": "python",
   "pygments_lexer": "ipython3",
   "version": "3.7.9"
  }
 },
 "nbformat": 4,
 "nbformat_minor": 1
}