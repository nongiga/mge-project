{
 "cells": [
  {
   "cell_type": "markdown",
   "source": [
    " ### To do\n",
    "+ move as many expressions to the config file\n",
    "+ make a rule file for each rule\n",
    "+ make a unique wrapper for each command\n",
    "\n",
    "completed - did not use subworkflows since they only take a single core\n",
    "There was clashing between jupyter, roary, and prokka's dependencies.\n",
    "To avoid any more problems I made a conda env for each. Because of that the versions may be\n",
    "different than those specified and I should essentially re-run all the code (no need to re-run\n",
    "unicycler since it is in a wrapper)"
   ],
   "metadata": {
    "collapsed": false
   }
  },
  {
   "cell_type": "markdown",
   "source": [
    "### installing mgefinder"
   ],
   "metadata": {
    "collapsed": false
   }
  }
 ],
 "metadata": {
  "kernelspec": {
   "display_name": "Python 3",
   "language": "python",
   "name": "python3"
  },
  "language_info": {
   "codemirror_mode": {
    "name": "ipython",
    "version": 2
   },
   "file_extension": ".py",
   "mimetype": "text/x-python",
   "name": "python",
   "nbconvert_exporter": "python",
   "pygments_lexer": "ipython2",
   "version": "2.7.6"
  }
 },
 "nbformat": 4,
 "nbformat_minor": 0
}