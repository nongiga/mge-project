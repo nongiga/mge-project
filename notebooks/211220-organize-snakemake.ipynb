{
 "cells": [
  {
   "cell_type": "code",
   "execution_count": 8,
   "metadata": {
    "collapsed": true
   },
   "outputs": [
    {
     "name": "stdout",
     "output_type": "stream",
     "text": [
      "hello world\n"
     ]
    }
   ],
   "source": [
    "print('hello world')"
   ]
  },
  {
   "cell_type": "markdown",
   "source": [
    "command to sync data from server to local dir before running breseq"
   ],
   "metadata": {
    "collapsed": false
   }
  },
  {
   "cell_type": "code",
   "execution_count": 6,
   "outputs": [],
   "source": [
    "#shell(\"rsync -avz nongiga@tech-ui01.hep.technion.ac.il:/storage/bi_kishony/nongiga/assembled/ \\\n",
    "#data/assembled --include=\\\"*/\\\"  --include=\\\"*.fasta\\\" --exclude=\\\"*\\\"\")\n",
    "\n",
    "#shell(\"rsync -avz nongiga@tech-ui01.hep.technion.ac.il:/storage/bi_kishony/nongiga/annontated/ \\\n",
    "#data/annontated/ --include=\\\"*/\\\"  --include=\\\"*.gff\\\" --exclude=\\\"*\\\"\")"
   ],
   "metadata": {
    "collapsed": false,
    "pycharm": {
     "name": "#%%\n"
    }
   }
  },
  {
   "cell_type": "markdown",
   "source": [
    "ran these orders and then moved to data/ and ran snakemake"
   ],
   "metadata": {
    "collapsed": false
   }
  },
  {
   "cell_type": "code",
   "execution_count": 7,
   "outputs": [],
   "source": [
    "#shell(\"cd data; snakemake -s ../workflow/Snakefile --configfile ../workflow/config/config.yaml\")"
   ],
   "metadata": {
    "collapsed": false,
    "pycharm": {
     "name": "#%%\n"
    }
   }
  },
  {
   "cell_type": "markdown",
   "source": [
    "code to delete jobs anre re-run snakemake on server\n",
    "\n",
    "condor_rm nongiga; rm -rf /storage/bi_kishony/nongiga/log* /storage/bi_kishony/nongiga/.snakemake; snakemake --profile htcondor --use-conda -k --snakefile workflow/server.workflow.smk --configfile workflow/config/config.yaml\n"
   ],
   "metadata": {
    "collapsed": false
   }
  },
  {
   "cell_type": "code",
   "execution_count": 7,
   "outputs": [],
   "source": [],
   "metadata": {
    "collapsed": false,
    "pycharm": {
     "name": "#%%\n"
    }
   }
  }
 ],
 "metadata": {
  "kernelspec": {
   "name": "pycharm-950a0f60",
   "language": "python",
   "display_name": "PyCharm (mge-project)"
  },
  "language_info": {
   "codemirror_mode": {
    "name": "ipython",
    "version": 2
   },
   "file_extension": ".py",
   "mimetype": "text/x-python",
   "name": "python",
   "nbconvert_exporter": "python",
   "pygments_lexer": "ipython2",
   "version": "2.7.6"
  }
 },
 "nbformat": 4,
 "nbformat_minor": 0
}