{
 "cells": [
  {
   "source": [
    "## To merge:\n",
    " - Mathew's matlab data\n",
    " - my cluster identification data\n",
    " - mgefinder\n",
    " - breseq (one day, hopefully)\n"
   ],
   "cell_type": "markdown",
   "metadata": {
    "collapsed": false
   }
  },
  {
   "source": [
    "#### Mathew's data\n",
    "eventually transformed parts of data into csv"
   ],
   "cell_type": "markdown",
   "metadata": {}
  },
  {
   "cell_type": "code",
   "execution_count": 12,
   "metadata": {},
   "outputs": [],
   "source": [
    "import os\n",
    "import pandas as pd\n",
    "# Matthews_dir=os.getcwd()+\"/PycharmProjects/mge-project/data/Mathews_data/\"\n",
    "# # get the filename list\n",
    "# filenames=[f for f in os.listdir(Matthews_dir) if f.endswith('.csv')]\n",
    "# #example how to get the tabl\n",
    "# ATCU=pd.read_csv(Matthews_dir+filenames[1])\n",
    "# print(filenames)"
   ]
  },
  {
   "cell_type": "code",
   "execution_count": 19,
   "metadata": {},
   "outputs": [
    {
     "output_type": "stream",
     "name": "stdout",
     "text": [
      "      RandomID Seqplates\n0        20643      6_F7\n1        20643     6_G11\n2        23595      3_H7\n3        26244     24_A8\n4        26666      5_D3\n...        ...       ...\n1195   3238816     23_A8\n1196   3242814    23_H11\n1197   3248787     12_A4\n1198   3251316      5_C1\n1199   3263632     15_H8\n\n[1200 rows x 2 columns]\n"
     ]
    }
   ],
   "source": [
    "# add same strain data to awkward array so that each isolate has \n",
    "#   1. whether it is a part of a same-strain subset (true/false for filtering)\n",
    "#   2. the # of SNPs between it and its colleagues\n",
    "import sys\n",
    "sys.path.append('PycharmProjects/mge-project/scripts/')\n",
    "from presnakemake_processing import process_same_strain_file\n",
    "same_strain_list=process_same_strain_file(\"~/PycharmProjects/mge-project/workflow/config/All_same_strain_pairs.xlsx\")\n",
    "\n",
    "print(same_strain_list)"
   ]
  },
  {
   "source": [
    "#### My cluster data\n",
    "Plan data structure:\n",
    "\n",
    "Person\n",
    "\n",
    "1. RandomID\n",
    "2. NewRandomID\n",
    "3. Same-strain case\n",
    "   1. CaseNum\n",
    "   2. Isolate\n",
    "      1. GFF data\n",
    "      2. RowNum\n",
    "      3. IsoNum\n",
    "      4. SampleDate\n",
    "      5. RawSeqsDir\n",
    "      6. RawSubDirName\n",
    "      7. SeqsDir\n",
    "      8. SeqsSubDirName\n",
    "      9. ReadLength\n",
    "      10. Used\n",
    "      11. Used_old\n",
    "      12. LowQualityThrs\n",
    "      13. Freezer_pos\n",
    "   2. Pangenome\n",
    "      1. gene names\n",
    "      2. gene IDs\n",
    "      3. coverage data\n",
    "      4. possible other roary input\n",
    "   3. MGEfinder\n",
    "   4. Breseq\n",
    "   5. Identified MGEs\n",
    "4. Antibiotics purchase\n",
    "...\n"
   ],
   "cell_type": "markdown",
   "metadata": {}
  },
  {
   "source": [
    "## Task #1: import all data into person\n",
    "### Experimenting with Awkward Array"
   ],
   "cell_type": "markdown",
   "metadata": {}
  },
  {
   "cell_type": "code",
   "execution_count": 20,
   "metadata": {
    "tags": []
   },
   "outputs": [
    {
     "output_type": "display_data",
     "data": {
      "text/plain": "      RowNum      IsoNum  CaseNum SiteString           SampleDate  \\\n0          1  40258178.0   150429      Urine           2017-12-10   \n1          2  40251080.0   150429      Urine           2017-12-07   \n2          3  40280202.0  2475530      Urine           2017-12-11   \n3          4  40229887.0  2475530      Urine           2017-12-06   \n4          5  40230930.0  2782671      Urine           2017-12-06   \n...      ...         ...      ...        ...                  ...   \n1735    2008  41072758.0  3142088      Urine  2018-02-20 00:00:00   \n1736    2009  41079010.0  2512442      Urine  2018-02-21 00:00:00   \n1737    2010  41103812.0  1843996      Urine  2018-02-22 00:00:00   \n1738    2011  41095542.0   538390      Urine  2018-02-22 00:00:00   \n1739    2012  41091372.0  2223716      Urine  2018-02-22 00:00:00   \n\n                                             RawSeqsDir  \\\n0     /media/kishonylab/KishonyStorage/Illumina_raw/...   \n1     /media/kishonylab/KishonyStorage/Illumina_raw/...   \n2     /media/kishonylab/KishonyStorage/Illumina_raw/...   \n3     /media/kishonylab/KishonyStorage/Illumina_raw/...   \n4     /media/kishonylab/KishonyStorage/Illumina_raw/...   \n...                                                 ...   \n1735  /media/kishonylab/KishonyStorage/Illumina_raw/...   \n1736  /media/kishonylab/KishonyStorage/Illumina_raw/...   \n1737  /media/kishonylab/KishonyStorage/Illumina_raw/...   \n1738  /media/kishonylab/KishonyStorage/Illumina_raw/...   \n1739  /media/kishonylab/KishonyStorage/Illumina_raw/...   \n\n                           RawSubDirName  \\\n0      Sample_Maccabi_Ecoli_SeqPlate1_A1   \n1      Sample_Maccabi_Ecoli_SeqPlate1_B1   \n2      Sample_Maccabi_Ecoli_SeqPlate1_C1   \n3      Sample_Maccabi_Ecoli_SeqPlate1_D1   \n4      Sample_Maccabi_Ecoli_SeqPlate1_E1   \n...                                  ...   \n1735  Sample_Maccabi_Ecoli_SeqPlate17_H4   \n1736  Sample_Maccabi_Ecoli_SeqPlate17_H5   \n1737  Sample_Maccabi_Ecoli_SeqPlate17_H7   \n1738  Sample_Maccabi_Ecoli_SeqPlate17_H8   \n1739  Sample_Maccabi_Ecoli_SeqPlate17_H9   \n\n                                                SeqsDir  \\\n0     /media/kishonylab/KishonyStorage/Sequencing_an...   \n1     /media/kishonylab/KishonyStorage/Sequencing_an...   \n2     /media/kishonylab/KishonyStorage/Sequencing_an...   \n3     /media/kishonylab/KishonyStorage/Sequencing_an...   \n4     /media/kishonylab/KishonyStorage/Sequencing_an...   \n...                                                 ...   \n1735  /media/kishonylab/KishonyStorage/Sequencing_an...   \n1736  /media/kishonylab/KishonyStorage/Sequencing_an...   \n1737  /media/kishonylab/KishonyStorage/Sequencing_an...   \n1738  /media/kishonylab/KishonyStorage/Sequencing_an...   \n1739  /media/kishonylab/KishonyStorage/Sequencing_an...   \n\n                           SeqSubDirName  ReadLength  Used  Used_old  \\\n0      Sample_Maccabi_Ecoli_SeqPlate1_A1         125     1         1   \n1      Sample_Maccabi_Ecoli_SeqPlate1_B1         125     1         1   \n2      Sample_Maccabi_Ecoli_SeqPlate1_C1         125     1         1   \n3      Sample_Maccabi_Ecoli_SeqPlate1_D1         125     1         1   \n4      Sample_Maccabi_Ecoli_SeqPlate1_E1         125     1         1   \n...                                  ...         ...   ...       ...   \n1735  Sample_Maccabi_Ecoli_SeqPlate17_H4         125     1         1   \n1736  Sample_Maccabi_Ecoli_SeqPlate17_H5         125     1         1   \n1737  Sample_Maccabi_Ecoli_SeqPlate17_H7         125     1         1   \n1738  Sample_Maccabi_Ecoli_SeqPlate17_H8         125     1         1   \n1739  Sample_Maccabi_Ecoli_SeqPlate17_H9         125     1         1   \n\n      LowQualityThrs Freezer_pos  NewRandomID  RandomID  \n0                  2        1_E2       171794    171794  \n1                  2        1_G2       171794    171794  \n2                  2        1_B6      2811778   2811778  \n3                  2        1_C6      2811778   2811778  \n4                  2        1_A8      2950038   2950038  \n...              ...         ...          ...       ...  \n1735               2     '22_D1'      3125091      <NA>  \n1736               2     '22_D3'      1679582      <NA>  \n1737               2     '22_H5'      2395687      <NA>  \n1738               2     '22_A7'       606367      <NA>  \n1739               2     '22_E9'      2720118      <NA>  \n\n[1740 rows x 16 columns]",
      "text/html": "<div>\n<style scoped>\n    .dataframe tbody tr th:only-of-type {\n        vertical-align: middle;\n    }\n\n    .dataframe tbody tr th {\n        vertical-align: top;\n    }\n\n    .dataframe thead th {\n        text-align: right;\n    }\n</style>\n<table border=\"1\" class=\"dataframe\">\n  <thead>\n    <tr style=\"text-align: right;\">\n      <th></th>\n      <th>RowNum</th>\n      <th>IsoNum</th>\n      <th>CaseNum</th>\n      <th>SiteString</th>\n      <th>SampleDate</th>\n      <th>RawSeqsDir</th>\n      <th>RawSubDirName</th>\n      <th>SeqsDir</th>\n      <th>SeqSubDirName</th>\n      <th>ReadLength</th>\n      <th>Used</th>\n      <th>Used_old</th>\n      <th>LowQualityThrs</th>\n      <th>Freezer_pos</th>\n      <th>NewRandomID</th>\n      <th>RandomID</th>\n    </tr>\n  </thead>\n  <tbody>\n    <tr>\n      <th>0</th>\n      <td>1</td>\n      <td>40258178.0</td>\n      <td>150429</td>\n      <td>Urine</td>\n      <td>2017-12-10</td>\n      <td>/media/kishonylab/KishonyStorage/Illumina_raw/...</td>\n      <td>Sample_Maccabi_Ecoli_SeqPlate1_A1</td>\n      <td>/media/kishonylab/KishonyStorage/Sequencing_an...</td>\n      <td>Sample_Maccabi_Ecoli_SeqPlate1_A1</td>\n      <td>125</td>\n      <td>1</td>\n      <td>1</td>\n      <td>2</td>\n      <td>1_E2</td>\n      <td>171794</td>\n      <td>171794</td>\n    </tr>\n    <tr>\n      <th>1</th>\n      <td>2</td>\n      <td>40251080.0</td>\n      <td>150429</td>\n      <td>Urine</td>\n      <td>2017-12-07</td>\n      <td>/media/kishonylab/KishonyStorage/Illumina_raw/...</td>\n      <td>Sample_Maccabi_Ecoli_SeqPlate1_B1</td>\n      <td>/media/kishonylab/KishonyStorage/Sequencing_an...</td>\n      <td>Sample_Maccabi_Ecoli_SeqPlate1_B1</td>\n      <td>125</td>\n      <td>1</td>\n      <td>1</td>\n      <td>2</td>\n      <td>1_G2</td>\n      <td>171794</td>\n      <td>171794</td>\n    </tr>\n    <tr>\n      <th>2</th>\n      <td>3</td>\n      <td>40280202.0</td>\n      <td>2475530</td>\n      <td>Urine</td>\n      <td>2017-12-11</td>\n      <td>/media/kishonylab/KishonyStorage/Illumina_raw/...</td>\n      <td>Sample_Maccabi_Ecoli_SeqPlate1_C1</td>\n      <td>/media/kishonylab/KishonyStorage/Sequencing_an...</td>\n      <td>Sample_Maccabi_Ecoli_SeqPlate1_C1</td>\n      <td>125</td>\n      <td>1</td>\n      <td>1</td>\n      <td>2</td>\n      <td>1_B6</td>\n      <td>2811778</td>\n      <td>2811778</td>\n    </tr>\n    <tr>\n      <th>3</th>\n      <td>4</td>\n      <td>40229887.0</td>\n      <td>2475530</td>\n      <td>Urine</td>\n      <td>2017-12-06</td>\n      <td>/media/kishonylab/KishonyStorage/Illumina_raw/...</td>\n      <td>Sample_Maccabi_Ecoli_SeqPlate1_D1</td>\n      <td>/media/kishonylab/KishonyStorage/Sequencing_an...</td>\n      <td>Sample_Maccabi_Ecoli_SeqPlate1_D1</td>\n      <td>125</td>\n      <td>1</td>\n      <td>1</td>\n      <td>2</td>\n      <td>1_C6</td>\n      <td>2811778</td>\n      <td>2811778</td>\n    </tr>\n    <tr>\n      <th>4</th>\n      <td>5</td>\n      <td>40230930.0</td>\n      <td>2782671</td>\n      <td>Urine</td>\n      <td>2017-12-06</td>\n      <td>/media/kishonylab/KishonyStorage/Illumina_raw/...</td>\n      <td>Sample_Maccabi_Ecoli_SeqPlate1_E1</td>\n      <td>/media/kishonylab/KishonyStorage/Sequencing_an...</td>\n      <td>Sample_Maccabi_Ecoli_SeqPlate1_E1</td>\n      <td>125</td>\n      <td>1</td>\n      <td>1</td>\n      <td>2</td>\n      <td>1_A8</td>\n      <td>2950038</td>\n      <td>2950038</td>\n    </tr>\n    <tr>\n      <th>...</th>\n      <td>...</td>\n      <td>...</td>\n      <td>...</td>\n      <td>...</td>\n      <td>...</td>\n      <td>...</td>\n      <td>...</td>\n      <td>...</td>\n      <td>...</td>\n      <td>...</td>\n      <td>...</td>\n      <td>...</td>\n      <td>...</td>\n      <td>...</td>\n      <td>...</td>\n      <td>...</td>\n    </tr>\n    <tr>\n      <th>1735</th>\n      <td>2008</td>\n      <td>41072758.0</td>\n      <td>3142088</td>\n      <td>Urine</td>\n      <td>2018-02-20 00:00:00</td>\n      <td>/media/kishonylab/KishonyStorage/Illumina_raw/...</td>\n      <td>Sample_Maccabi_Ecoli_SeqPlate17_H4</td>\n      <td>/media/kishonylab/KishonyStorage/Sequencing_an...</td>\n      <td>Sample_Maccabi_Ecoli_SeqPlate17_H4</td>\n      <td>125</td>\n      <td>1</td>\n      <td>1</td>\n      <td>2</td>\n      <td>'22_D1'</td>\n      <td>3125091</td>\n      <td>&lt;NA&gt;</td>\n    </tr>\n    <tr>\n      <th>1736</th>\n      <td>2009</td>\n      <td>41079010.0</td>\n      <td>2512442</td>\n      <td>Urine</td>\n      <td>2018-02-21 00:00:00</td>\n      <td>/media/kishonylab/KishonyStorage/Illumina_raw/...</td>\n      <td>Sample_Maccabi_Ecoli_SeqPlate17_H5</td>\n      <td>/media/kishonylab/KishonyStorage/Sequencing_an...</td>\n      <td>Sample_Maccabi_Ecoli_SeqPlate17_H5</td>\n      <td>125</td>\n      <td>1</td>\n      <td>1</td>\n      <td>2</td>\n      <td>'22_D3'</td>\n      <td>1679582</td>\n      <td>&lt;NA&gt;</td>\n    </tr>\n    <tr>\n      <th>1737</th>\n      <td>2010</td>\n      <td>41103812.0</td>\n      <td>1843996</td>\n      <td>Urine</td>\n      <td>2018-02-22 00:00:00</td>\n      <td>/media/kishonylab/KishonyStorage/Illumina_raw/...</td>\n      <td>Sample_Maccabi_Ecoli_SeqPlate17_H7</td>\n      <td>/media/kishonylab/KishonyStorage/Sequencing_an...</td>\n      <td>Sample_Maccabi_Ecoli_SeqPlate17_H7</td>\n      <td>125</td>\n      <td>1</td>\n      <td>1</td>\n      <td>2</td>\n      <td>'22_H5'</td>\n      <td>2395687</td>\n      <td>&lt;NA&gt;</td>\n    </tr>\n    <tr>\n      <th>1738</th>\n      <td>2011</td>\n      <td>41095542.0</td>\n      <td>538390</td>\n      <td>Urine</td>\n      <td>2018-02-22 00:00:00</td>\n      <td>/media/kishonylab/KishonyStorage/Illumina_raw/...</td>\n      <td>Sample_Maccabi_Ecoli_SeqPlate17_H8</td>\n      <td>/media/kishonylab/KishonyStorage/Sequencing_an...</td>\n      <td>Sample_Maccabi_Ecoli_SeqPlate17_H8</td>\n      <td>125</td>\n      <td>1</td>\n      <td>1</td>\n      <td>2</td>\n      <td>'22_A7'</td>\n      <td>606367</td>\n      <td>&lt;NA&gt;</td>\n    </tr>\n    <tr>\n      <th>1739</th>\n      <td>2012</td>\n      <td>41091372.0</td>\n      <td>2223716</td>\n      <td>Urine</td>\n      <td>2018-02-22 00:00:00</td>\n      <td>/media/kishonylab/KishonyStorage/Illumina_raw/...</td>\n      <td>Sample_Maccabi_Ecoli_SeqPlate17_H9</td>\n      <td>/media/kishonylab/KishonyStorage/Sequencing_an...</td>\n      <td>Sample_Maccabi_Ecoli_SeqPlate17_H9</td>\n      <td>125</td>\n      <td>1</td>\n      <td>1</td>\n      <td>2</td>\n      <td>'22_E9'</td>\n      <td>2720118</td>\n      <td>&lt;NA&gt;</td>\n    </tr>\n  </tbody>\n</table>\n<p>1740 rows × 16 columns</p>\n</div>"
     },
     "metadata": {}
    }
   ],
   "source": [
    "import awkward as ak\n",
    "import pprint\n",
    "import pandas as pd\n",
    "import numpy as np\n",
    "import json\n",
    "\n",
    "isolates_list=pd.read_excel(\"~/PycharmProjects/mge-project/workflow/config/isolates_list_Maccabi_E.coli_UTI_SeqPlates1to25.xlsx\",\n",
    "        engine=\"openpyxl\")\n",
    "isolates_list=isolates_list \\\n",
    "    .dropna(axis=1,how=\"all\") \\\n",
    "    .dropna(axis=0,how=\"all\") \\\n",
    "    .convert_dtypes(convert_floating=False)\n",
    "isolates_list.SampleDate=isolates_list.SampleDate.apply(str)\n",
    "display(isolates_list)"
   ]
  },
  {
   "cell_type": "code",
   "execution_count": 21,
   "metadata": {
    "tags": []
   },
   "outputs": [],
   "source": [
    "\n",
    "#created nested struct and awkward array from excel\n",
    "df=isolates_list\n",
    "ilj = (df.groupby(['NewRandomID','RandomID','CaseNum'])\n",
    "             .apply(lambda x: x[['IsoNum', 'RowNum','SampleDate','SeqSubDirName','LowQualityThrs', 'Freezer_pos', 'Used', 'SiteString']]\n",
    "             .to_dict(\"records\"))\n",
    "             .reset_index()\n",
    "             .rename(columns={0:'Isolates'})\n",
    "             .to_json(orient='records'))\n",
    "#print(json.dumps(json.loads(ilj), indent=2, sort_keys=True))\n",
    "\n",
    "ila=ak.from_json(ilj)\n",
    "\n",
    "#add raw seqname to struct\n",
    "counts=ak.num(ila.Isolates)\n",
    "Seqname=[str(s).replace('Maccabi_Ecoli_SeqPlate','').replace('Sample_','') for s in ak.flatten(ila.Isolates.SeqSubDirName)]\n",
    "Seqname=ak.unflatten(Seqname, counts)\n",
    "ila['Isolates']=ak.with_field(ila.Isolates, Seqname, where=\"Seqname\")"
   ]
  },
  {
   "cell_type": "code",
   "execution_count": 22,
   "metadata": {
    "tags": []
   },
   "outputs": [],
   "source": [
    "# process same-strain into json and then awkwardarray\n",
    "#sd = (same_strain_list.groupby(['RandomID']).aggregate(list)).to_dict()\n",
    "from presnakemake_processing import process_same_strain_file\n",
    "same_strain_list=process_same_strain_file(\"~/PycharmProjects/mge-project/workflow/config/All_same_strain_pairs.xlsx\")\n",
    "ssj = (same_strain_list.groupby('RandomID')['Seqplates']\n",
    "             .apply(list)\n",
    "             .reset_index()\n",
    "             .rename(columns={0:'Isolates'})\n",
    "             .to_json(orient='records'))\n",
    "\n",
    "#print(json.dumps(json.loads(ssj), indent=2, sort_keys=True))\n",
    "ssa=ak.from_json(ssj)"
   ]
  },
  {
   "cell_type": "code",
   "execution_count": 23,
   "metadata": {
    "tags": []
   },
   "outputs": [
    {
     "output_type": "stream",
     "name": "stdout",
     "text": [
      "[0, 14199, 20578, 20643, 23595, ... 3247835, 3248787, 3251316, 3257723, 3267020]\n"
     ]
    }
   ],
   "source": [
    "# merge two arrays in outer join\n",
    "dictionary, index = np.unique(np.asarray(ssa.RandomID), return_index=True)\n",
    "closest = np.searchsorted(dictionary, np.asarray(ila.RandomID), side=\"left\")\n",
    "is_within_range = ak.Array(closest).mask[closest < len(dictionary)]\n",
    "is_good_match = ak.Array(dictionary)[is_within_range] == ila.RandomID\n",
    "print(ila.RandomID)\n",
    "reordering = ak.Array(closest).mask[is_good_match]\n",
    "ila[\"Seqplates\"] = ssa.Seqplates[index][reordering]\n"
   ]
  },
  {
   "cell_type": "code",
   "execution_count": 24,
   "metadata": {},
   "outputs": [],
   "source": [
    "# Add same-strain using cartesian product\n",
    "cart=ak.cartesian([ila.Isolates.Seqname, ila.Seqplates], nested=True)\n",
    "is_ss=ak.any(cart.slot0==cart.slot1, axis=-1)\n",
    "is_ss=ak.fill_none(is_ss, False)\n",
    "ila['Isolates']=ak.with_field(ila.Isolates, is_ss, where=\"IsSameStrain\")"
   ]
  },
  {
   "source": [
    "## Task #2: import pangenome coverage data\n",
    "The absolute necessaries:\n",
    " - gene names (from roary)\n",
    " - gene functions, scaffolds (from prokka)\n",
    " - gene coverages (from coverage)\n",
    " - BRESEQ\n",
    " \n",
    "All else can wait!\n",
    "### Work plan\n",
    " Load into pangenomes structs and then merge them with dataset at very end"
   ],
   "cell_type": "markdown",
   "metadata": {}
  },
  {
   "source": [
    "# get all gene_presence_absence files (older version, works)\n",
    "\n",
    "\n",
    "# import pyarrow as pa\n",
    "# from pyarrow import csv\n",
    "# import pyarrow.parquet as pq\n",
    "\n",
    "# datadir=os.getcwd()+\"/PycharmProjects/mge-project/data/\"\n",
    "\n",
    "# dirnames=np.char.add(np.asarray(datadir+\"/pangenome/\", dtype=str), np.asarray(ila.NewRandomID,dtype=str))\n",
    "# filenames=np.char.add(dirnames,np.asarray('/gene_presence_absence.csv', dtype=str))\n",
    "\n",
    "# isfile=[os.path.isfile(fn) for fn in filenames]\n",
    "\n",
    "# def ak_string_to_int(akstr):\n",
    "#     nparr=ak.to_numpy(akstr,allow_missing=True)\n",
    "#     nparr=np.fromstring(nparr, dtype=int)\n",
    "#     akint=ak.Array(nparr)\n",
    "#     return akint\n",
    "\n",
    "\n",
    "# #get pandas table\n",
    "# def get_pangenome_data(filename,opt):\n",
    "#     roary_pa=csv.read_csv(filename, convert_options=opt)\n",
    "#     roary_pa=roary_pa.rename_columns([n.replace(' ', '_').replace('.','') for n in roary_pa.column_names])\n",
    "#     roary_pa=roary_pa.drop([col for col in roary_pa.column_names if 'Sample' in col])\n",
    "#     print(filename)\n",
    "#     roary_ak=ak.from_arrow(roary_pa)\n",
    "#     # roary_ak.Accessory_Fragment=ak_string_to_int(roary_ak.Accessory_Fragment)\n",
    "#     # roary_ak.Accessory_Order_with_Fragment=ak_string_to_int(roary_ak.Accessory_Order_with_Fragment)\n",
    "\n",
    "#     return roary_ak, ak.num(roary_ak.Gene, axis=0)\n",
    "\n",
    "\n",
    "\n",
    "\n",
    "# ilp=ila[:4]\n",
    "# isfile=isfile[:4]\n",
    "# filenames=filenames[:4]\n",
    "\n",
    "# opt=csv.ConvertOptions(column_types=[('Accessory Fragment', pa.string()),( 'Accessory Order with Fragment', pa.string() )],\n",
    "#         strings_can_be_null=True)\n",
    "\n",
    "\n",
    "\n",
    "# rda=ak.to_arrow(ilp)\n",
    "\n",
    "# roary_data=[ (get_pangenome_data(fn, opt))  for fn in filenames[isfile] ]\n",
    "\n",
    "# r_count=np.array([c[1] for c in roary_data])\n",
    "# count=np.zeros((len(ilp),),dtype=int)\n",
    "# count[isfile]=r_count\n",
    "\n",
    "# roary_data=[c[0] for c in roary_data]\n",
    "\n",
    "\n",
    "# rd=ak.concatenate(roary_data,merge=False, mergebool=False)\n",
    "# rd=ak.unflatten(rd,count)\n",
    "\n",
    "# ilp=ak.with_field(ilp, rd, where='Pangenome')\n",
    "# print(ak.type(ilp))\n",
    "\n",
    "# ak.to_parquet(ilp, datadir+\"/datastruct/up_to_pangenome.parquet\")\n"
   ],
   "cell_type": "code",
   "metadata": {
    "tags": []
   },
   "execution_count": 285,
   "outputs": [
    {
     "output_type": "stream",
     "name": "stdout",
     "text": [
      "/media/kishonylab/KishonyStorage/noga/PycharmProjects/mge-project/data//pangenome/20643/gene_presence_absence.csv\n4 * {\"NewRandomID\": int64, \"RandomID\": int64, \"CaseNum\": int64, \"Seqplates\": option[var * string], \"Isolates\": var * {\"IsoNum\": float64, \"RowNum\": int64, \"SampleDate\": string, \"SeqSubDirName\": string, \"LowQualityThrs\": int64, \"Freezer_pos\": string, \"Used\": int64, \"SiteString\": string, \"Seqname\": string, \"IsSameStrain\": bool}, \"Pangenome\": var * {\"Gene\": option[string], \"Non-unique_Gene_name\": option[string], \"Annotation\": option[string], \"No_isolates\": ?int64, \"No_sequences\": ?int64, \"Avg_sequences_per_isolate\": ?int64, \"Genome_Fragment\": ?int64, \"Order_within_Fragment\": ?int64, \"Accessory_Fragment\": option[string], \"Accessory_Order_with_Fragment\": option[string], \"QC\": option[string], \"Min_group_size_nuc\": ?int64, \"Max_group_size_nuc\": ?int64, \"Avg_group_size_nuc\": ?int64}}\n"
     ]
    },
    {
     "output_type": "error",
     "ename": "ArrowInvalid",
     "evalue": "Length spanned by list offsets (5305) larger than values array (length 5304)",
     "traceback": [
      "\u001b[0;31m----------------------------------------\u001b[0m",
      "\u001b[0;31mArrowInvalid\u001b[0mTraceback (most recent call last)",
      "\u001b[0;32m<ipython-input-285-2108e01340a5>\u001b[0m in \u001b[0;36m<module>\u001b[0;34m\u001b[0m\n\u001b[1;32m     61\u001b[0m \u001b[0mprint\u001b[0m\u001b[0;34m(\u001b[0m\u001b[0mak\u001b[0m\u001b[0;34m.\u001b[0m\u001b[0mtype\u001b[0m\u001b[0;34m(\u001b[0m\u001b[0milp\u001b[0m\u001b[0;34m)\u001b[0m\u001b[0;34m)\u001b[0m\u001b[0;34m\u001b[0m\u001b[0;34m\u001b[0m\u001b[0m\n\u001b[1;32m     62\u001b[0m \u001b[0;34m\u001b[0m\u001b[0m\n\u001b[0;32m---> 63\u001b[0;31m \u001b[0mak\u001b[0m\u001b[0;34m.\u001b[0m\u001b[0mto_parquet\u001b[0m\u001b[0;34m(\u001b[0m\u001b[0milp\u001b[0m\u001b[0;34m,\u001b[0m \u001b[0mdatadir\u001b[0m\u001b[0;34m+\u001b[0m\u001b[0;34m\"/datastruct/up_to_pangenome.parquet\"\u001b[0m\u001b[0;34m)\u001b[0m\u001b[0;34m\u001b[0m\u001b[0;34m\u001b[0m\u001b[0m\n\u001b[0m",
      "\u001b[0;32m~/opt/miniconda3/envs/server-env/lib/python3.7/site-packages/awkward/operations/convert.py\u001b[0m in \u001b[0;36mto_parquet\u001b[0;34m(array, where, explode_records, list_to32, string_to32, bytestring_to32, **options)\u001b[0m\n\u001b[1;32m   2662\u001b[0m     \u001b[0mlayout\u001b[0m \u001b[0;34m=\u001b[0m \u001b[0mto_layout\u001b[0m\u001b[0;34m(\u001b[0m\u001b[0marray\u001b[0m\u001b[0;34m,\u001b[0m \u001b[0mallow_record\u001b[0m\u001b[0;34m=\u001b[0m\u001b[0;32mFalse\u001b[0m\u001b[0;34m,\u001b[0m \u001b[0mallow_other\u001b[0m\u001b[0;34m=\u001b[0m\u001b[0;32mFalse\u001b[0m\u001b[0;34m)\u001b[0m\u001b[0;34m\u001b[0m\u001b[0;34m\u001b[0m\u001b[0m\n\u001b[1;32m   2663\u001b[0m     \u001b[0miterator\u001b[0m \u001b[0;34m=\u001b[0m \u001b[0mbatch_iterator\u001b[0m\u001b[0;34m(\u001b[0m\u001b[0mlayout\u001b[0m\u001b[0;34m)\u001b[0m\u001b[0;34m\u001b[0m\u001b[0;34m\u001b[0m\u001b[0m\n\u001b[0;32m-> 2664\u001b[0;31m     \u001b[0mfirst\u001b[0m \u001b[0;34m=\u001b[0m \u001b[0mnext\u001b[0m\u001b[0;34m(\u001b[0m\u001b[0miterator\u001b[0m\u001b[0;34m)\u001b[0m\u001b[0;34m\u001b[0m\u001b[0;34m\u001b[0m\u001b[0m\n\u001b[0m\u001b[1;32m   2665\u001b[0m \u001b[0;34m\u001b[0m\u001b[0m\n\u001b[1;32m   2666\u001b[0m     \u001b[0;32mif\u001b[0m \u001b[0;34m\"schema\"\u001b[0m \u001b[0;32mnot\u001b[0m \u001b[0;32min\u001b[0m \u001b[0moptions\u001b[0m\u001b[0;34m:\u001b[0m\u001b[0;34m\u001b[0m\u001b[0;34m\u001b[0m\u001b[0m\n",
      "\u001b[0;32m~/opt/miniconda3/envs/server-env/lib/python3.7/site-packages/awkward/operations/convert.py\u001b[0m in \u001b[0;36mbatch_iterator\u001b[0;34m(layout)\u001b[0m\n\u001b[1;32m   2646\u001b[0m                         \u001b[0mlist_to32\u001b[0m\u001b[0;34m=\u001b[0m\u001b[0mlist_to32\u001b[0m\u001b[0;34m,\u001b[0m\u001b[0;34m\u001b[0m\u001b[0;34m\u001b[0m\u001b[0m\n\u001b[1;32m   2647\u001b[0m                         \u001b[0mstring_to32\u001b[0m\u001b[0;34m=\u001b[0m\u001b[0mstring_to32\u001b[0m\u001b[0;34m,\u001b[0m\u001b[0;34m\u001b[0m\u001b[0;34m\u001b[0m\u001b[0m\n\u001b[0;32m-> 2648\u001b[0;31m                         \u001b[0mbytestring_to32\u001b[0m\u001b[0;34m=\u001b[0m\u001b[0mbytestring_to32\u001b[0m\u001b[0;34m,\u001b[0m\u001b[0;34m\u001b[0m\u001b[0;34m\u001b[0m\u001b[0m\n\u001b[0m\u001b[1;32m   2649\u001b[0m                     )\n\u001b[1;32m   2650\u001b[0m                 )\n",
      "\u001b[0;32m~/opt/miniconda3/envs/server-env/lib/python3.7/site-packages/awkward/operations/convert.py\u001b[0m in \u001b[0;36mto_arrow\u001b[0;34m(array, list_to32, string_to32, bytestring_to32)\u001b[0m\n\u001b[1;32m   2221\u001b[0m             )\n\u001b[1;32m   2222\u001b[0m \u001b[0;34m\u001b[0m\u001b[0m\n\u001b[0;32m-> 2223\u001b[0;31m     \u001b[0;32mreturn\u001b[0m \u001b[0mrecurse\u001b[0m\u001b[0;34m(\u001b[0m\u001b[0mlayout\u001b[0m\u001b[0;34m,\u001b[0m \u001b[0;32mNone\u001b[0m\u001b[0;34m,\u001b[0m \u001b[0;32mFalse\u001b[0m\u001b[0;34m)\u001b[0m\u001b[0;34m\u001b[0m\u001b[0;34m\u001b[0m\u001b[0m\n\u001b[0m\u001b[1;32m   2224\u001b[0m \u001b[0;34m\u001b[0m\u001b[0m\n\u001b[1;32m   2225\u001b[0m \u001b[0;34m\u001b[0m\u001b[0m\n",
      "\u001b[0;32m~/opt/miniconda3/envs/server-env/lib/python3.7/site-packages/awkward/operations/convert.py\u001b[0m in \u001b[0;36mrecurse\u001b[0;34m(layout, mask, is_option)\u001b[0m\n\u001b[1;32m   1937\u001b[0m                     \u001b[0mlen\u001b[0m\u001b[0;34m(\u001b[0m\u001b[0moffsets\u001b[0m\u001b[0;34m)\u001b[0m \u001b[0;34m-\u001b[0m \u001b[0;36m1\u001b[0m\u001b[0;34m,\u001b[0m\u001b[0;34m\u001b[0m\u001b[0;34m\u001b[0m\u001b[0m\n\u001b[1;32m   1938\u001b[0m                     \u001b[0;34m[\u001b[0m\u001b[0;32mNone\u001b[0m\u001b[0;34m,\u001b[0m \u001b[0mpyarrow\u001b[0m\u001b[0;34m.\u001b[0m\u001b[0mpy_buffer\u001b[0m\u001b[0;34m(\u001b[0m\u001b[0moffsets\u001b[0m\u001b[0;34m)\u001b[0m\u001b[0;34m]\u001b[0m\u001b[0;34m,\u001b[0m\u001b[0;34m\u001b[0m\u001b[0;34m\u001b[0m\u001b[0m\n\u001b[0;32m-> 1939\u001b[0;31m                     \u001b[0mchildren\u001b[0m\u001b[0;34m=\u001b[0m\u001b[0;34m[\u001b[0m\u001b[0mcontent_buffer\u001b[0m\u001b[0;34m]\u001b[0m\u001b[0;34m,\u001b[0m\u001b[0;34m\u001b[0m\u001b[0;34m\u001b[0m\u001b[0m\n\u001b[0m\u001b[1;32m   1940\u001b[0m                 )\n\u001b[1;32m   1941\u001b[0m             \u001b[0;32melse\u001b[0m\u001b[0;34m:\u001b[0m\u001b[0;34m\u001b[0m\u001b[0;34m\u001b[0m\u001b[0m\n",
      "\u001b[0;32m~/opt/miniconda3/envs/server-env/lib/python3.7/site-packages/pyarrow/array.pxi\u001b[0m in \u001b[0;36mpyarrow.lib.Array.from_buffers\u001b[0;34m()\u001b[0m\n",
      "\u001b[0;32m~/opt/miniconda3/envs/server-env/lib/python3.7/site-packages/pyarrow/array.pxi\u001b[0m in \u001b[0;36mpyarrow.lib.Array.validate\u001b[0;34m()\u001b[0m\n",
      "\u001b[0;32m~/opt/miniconda3/envs/server-env/lib/python3.7/site-packages/pyarrow/error.pxi\u001b[0m in \u001b[0;36mpyarrow.lib.check_status\u001b[0;34m()\u001b[0m\n",
      "\u001b[0;31mArrowInvalid\u001b[0m: Length spanned by list offsets (5305) larger than values array (length 5304)"
     ]
    }
   ]
  },
  {
   "cell_type": "code",
   "execution_count": null,
   "metadata": {},
   "outputs": [],
   "source": []
  },
  {
   "cell_type": "code",
   "execution_count": null,
   "metadata": {},
   "outputs": [],
   "source": []
  },
  {
   "cell_type": "code",
   "execution_count": 296,
   "metadata": {
    "tags": [
     "outputPrepend"
    ]
   },
   "outputs": [
    {
     "output_type": "stream",
     "name": "stderr",
     "text": [
      "_SeqPlate15_D6\": option[string], \"Sample_Maccabi_Ecoli_SeqPlate22_D8\": option[string], \"Sample_Maccabi_Ecoli_SeqPlate25_F9\": option[string], \"Sample_Maccabi_Ecoli_SeqPlate11_D1\": option[string], \"Sample_Maccabi_Ecoli_SeqPlate25_C6\": option[string], \"Sample_Maccabi_Ecoli_SeqPlate8_D3\": option[string], \"Sample_Maccabi_Ecoli_SeqPlate8_E3\": option[string], \"Sample_Maccabi_Ecoli_SeqPlate5_B6\": option[string], \"Sample_Maccabi_Ecoli_SeqPlate5_B7\": option[string], \"Sample_Maccabi_Ecoli_SeqPlate5_B8\": option[string], \"Sample_Maccabi_Ecoli_SeqPlate10_E5\": option[string], \"Sample_Maccabi_Ecoli_SeqPlate10_F5\": option[string], \"Sample_Maccabi_Ecoli_SeqPlate13_F2\": option[string], \"Sample_Maccabi_Ecoli_SeqPlate17_D11\": option[string], \"Sample_Maccabi_Ecoli_SeqPlate19_G2\": option[string], \"Sample_Maccabi_Ecoli_SeqPlate22_F1\": option[string], \"Sample_Maccabi_Ecoli_SeqPlate20_B1\": option[string], \"Sample_Maccabi_Ecoli_SeqPlate22_B12\": option[string], \"Sample_Maccabi_Ecoli_SeqPlate20_H11\": option[string], \"Sample_Maccabi_Ecoli_SeqPlate22_F11\": option[string], \"Sample_Maccabi_Ecoli_SeqPlate16_H2\": option[string], \"Sample_Maccabi_Ecoli_SeqPlate18_D4\": option[string], \"Sample_Maccabi_Ecoli_SeqPlate5_B2\": option[string], \"Sample_Maccabi_Ecoli_SeqPlate5_B3\": option[string], \"Sample_Maccabi_Ecoli_SeqPlate11_G3\": option[string], \"Sample_Maccabi_Ecoli_SeqPlate25_G12\": option[string], \"Sample_Maccabi_Ecoli_SeqPlate8_F3\": option[string], \"Sample_Maccabi_Ecoli_SeqPlate9_E5\": option[string], \"Sample_Maccabi_Ecoli_SeqPlate16_D11\": option[string], \"Sample_Maccabi_Ecoli_SeqPlate18_A10\": option[string], \"Sample_Maccabi_Ecoli_SeqPlate17_F4\": option[string], \"Sample_Maccabi_Ecoli_SeqPlate21_D5\": option[string], \"Sample_Maccabi_Ecoli_SeqPlate11_F7\": option[string], \"Sample_Maccabi_Ecoli_SeqPlate12_D10\": option[string], \"Sample_Maccabi_Ecoli_SeqPlate11_E5\": option[string], \"Sample_Maccabi_Ecoli_SeqPlate14_B5\": option[string], \"Sample_Maccabi_Ecoli_SeqPlate12_D2\": option[string], \"Sample_Maccabi_Ecoli_SeqPlate15_D12\": option[string], \"Sample_Maccabi_Ecoli_SeqPlate25_C10\": option[string], \"Sample_Maccabi_Ecoli_SeqPlate2_E4\": option[string], \"Sample_Maccabi_Ecoli_SeqPlate8_G3\": option[string], \"Sample_Maccabi_Ecoli_SeqPlate16_G12\": option[string], \"Sample_Maccabi_Ecoli_SeqPlate18_D6\": option[string], \"Sample_Maccabi_Ecoli_SeqPlate15_D8\": option[string], \"Sample_Maccabi_Ecoli_SeqPlate20_A8\": option[string], \"Sample_Maccabi_Ecoli_SeqPlate23_H10\": option[string], \"Sample_Maccabi_Ecoli_SeqPlate20_A3\": option[string], \"Sample_Maccabi_Ecoli_SeqPlate25_D9\": option[string], \"Sample_Maccabi_Ecoli_SeqPlate11_D9\": option[string], \"Sample_Maccabi_Ecoli_SeqPlate19_C8\": option[string], \"Sample_Maccabi_Ecoli_SeqPlate8_H3\": option[string], \"Sample_Maccabi_Ecoli_SeqPlate9_G5\": option[string], \"Sample_Maccabi_Ecoli_SeqPlate17_H10\": option[string], \"Sample_Maccabi_Ecoli_SeqPlate23_D3\": option[string], \"Sample_Maccabi_Ecoli_SeqPlate18_C9\": option[string], \"Sample_Maccabi_Ecoli_SeqPlate20_C9\": option[string], \"Sample_Maccabi_Ecoli_SeqPlate17_F3\": option[string], \"Sample_Maccabi_Ecoli_SeqPlate18_A4\": option[string], \"Sample_Maccabi_Ecoli_SeqPlate13_G10\": option[string], \"Sample_Maccabi_Ecoli_SeqPlate21_C2\": option[string], \"Sample_Maccabi_Ecoli_SeqPlate22_C3\": option[string], \"Sample_Maccabi_Ecoli_SeqPlate11_C7\": option[string], \"Sample_Maccabi_Ecoli_SeqPlate24_B11\": option[string], \"Sample_Maccabi_Ecoli_SeqPlate24_H7\": option[string], \"Sample_Maccabi_Ecoli_SeqPlate25_H5\": option[string], \"Sample_Maccabi_Ecoli_SeqPlate9_F9\": option[string], \"Sample_Maccabi_Ecoli_SeqPlate9_H5\": option[string], \"Sample_Maccabi_Ecoli_SeqPlate19_C3\": option[string], \"Sample_Maccabi_Ecoli_SeqPlate22_F12\": option[string], \"Sample_Maccabi_Ecoli_SeqPlate12_F12\": option[string], \"Sample_Maccabi_Ecoli_SeqPlate15_H9\": option[string], \"Sample_Maccabi_Ecoli_SeqPlate8_G6\": option[string], \"Sample_Maccabi_Ecoli_SeqPlate9_C10\": option[string], \"Sample_Maccabi_Ecoli_SeqPlate16_H6\": option[string], \"Sample_Maccabi_Ecoli_SeqPlate20_B10\": option[string], \"Sample_Maccabi_Ecoli_SeqPlate11_C4\": option[string], \"Sample_Maccabi_Ecoli_SeqPlate13_C6\": option[string], \"Sample_Maccabi_Ecoli_SeqPlate10_C3\": option[string], \"Sample_Maccabi_Ecoli_SeqPlate10_D8\": option[string], \"Sample_Maccabi_Ecoli_SeqPlate13_F9\": option[string], \"Sample_Maccabi_Ecoli_SeqPlate17_C7\": option[string], \"Sample_Maccabi_Ecoli_SeqPlate10_G12\": option[string], \"Sample_Maccabi_Ecoli_SeqPlate11_H10\": option[string], \"Sample_Maccabi_Ecoli_SeqPlate16_C8\": option[string], \"Sample_Maccabi_Ecoli_SeqPlate18_B5\": option[string], \"Sample_Maccabi_Ecoli_SeqPlate11_A1\": option[string], \"Sample_Maccabi_Ecoli_SeqPlate12_G12\": option[string], \"Sample_Maccabi_Ecoli_SeqPlate17_D2\": option[string], \"Sample_Maccabi_Ecoli_SeqPlate23_B6\": option[string], \"Sample_Maccabi_Ecoli_SeqPlate6_C3\": option[string], \"Sample_Maccabi_Ecoli_SeqPlate6_H1\": option[string], \"Sample_Maccabi_Ecoli_SeqPlate3_C11\": option[string], \"Sample_Maccabi_Ecoli_SeqPlate8_A4\": option[string], \"Sample_Maccabi_Ecoli_SeqPlate24_C10\": option[string], \"Sample_Maccabi_Ecoli_SeqPlate24_H6\": option[string], \"Sample_Maccabi_Ecoli_SeqPlate17_H7\": option[string], \"Sample_Maccabi_Ecoli_SeqPlate21_D12\": option[string], \"Sample_Maccabi_Ecoli_SeqPlate13_G11\": option[string], \"Sample_Maccabi_Ecoli_SeqPlate18_D11\": option[string], \"Sample_Maccabi_Ecoli_SeqPlate8_C4\": option[string], \"Sample_Maccabi_Ecoli_SeqPlate8_D4\": option[string], \"Sample_Maccabi_Ecoli_SeqPlate24_B8\": option[string], \"Sample_Maccabi_Ecoli_SeqPlate24_H9\": option[string], \"Sample_Maccabi_Ecoli_SeqPlate19_A6\": option[string], \"Sample_Maccabi_Ecoli_SeqPlate19_F9\": option[string], \"Sample_Maccabi_Ecoli_SeqPlate9_B12\": option[string], \"Sample_Maccabi_Ecoli_SeqPlate9_C12\": option[string], \"Sample_Maccabi_Ecoli_SeqPlate18_C8\": option[string], \"Sample_Maccabi_Ecoli_SeqPlate21_H9\": option[string], \"Sample_Maccabi_Ecoli_SeqPlate6_D5\": option[string], \"Sample_Maccabi_Ecoli_SeqPlate6_D8\": option[string], \"Sample_Maccabi_Ecoli_SeqPlate8_E4\": option[string], \"Sample_Maccabi_Ecoli_SeqPlate8_F4\": option[string], \"Sample_Maccabi_Ecoli_SeqPlate11_A4\": option[string], \"Sample_Maccabi_Ecoli_SeqPlate19_H4\": option[string], \"Sample_Maccabi_Ecoli_SeqPlate18_F3\": option[string], \"Sample_Maccabi_Ecoli_SeqPlate24_G3\": option[string], \"Sample_Maccabi_Ecoli_SeqPlate13_A8\": option[string], \"Sample_Maccabi_Ecoli_SeqPlate19_D11\": option[string], \"Sample_Maccabi_Ecoli_SeqPlate25_H4\": option[string], \"Sample_Maccabi_Ecoli_SeqPlate8_G4\": option[string], \"Sample_Maccabi_Ecoli_SeqPlate8_A5\": option[string], \"Sample_Maccabi_Ecoli_SeqPlate8_B5\": option[string], \"Sample_Maccabi_Ecoli_SeqPlate17_B6\": option[string], \"Sample_Maccabi_Ecoli_SeqPlate18_H4\": option[string], \"Sample_Maccabi_Ecoli_SeqPlate15_A1\": option[string], \"Sample_Maccabi_Ecoli_SeqPlate21_A4\": option[string], \"Sample_Maccabi_Ecoli_SeqPlate11_G5\": option[string], \"Sample_Maccabi_Ecoli_SeqPlate19_B8\": option[string], \"Sample_Maccabi_Ecoli_SeqPlate1_A6\": option[string], \"Sample_Maccabi_Ecoli_SeqPlate1_H5\": option[string], \"Sample_Maccabi_Ecoli_SeqPlate20_C7\": option[string], \"Sample_Maccabi_Ecoli_SeqPlate24_H10\": option[string], \"Sample_Maccabi_Ecoli_SeqPlate16_G11\": option[string], \"Sample_Maccabi_Ecoli_SeqPlate18_D7\": option[string], \"Sample_Maccabi_Ecoli_SeqPlate8_E7\": option[string], \"Sample_Maccabi_Ecoli_SeqPlate9_F7\": option[string], \"Sample_Maccabi_Ecoli_SeqPlate17_A11\": option[string], \"Sample_Maccabi_Ecoli_SeqPlate19_D6\": option[string], \"Sample_Maccabi_Ecoli_SeqPlate10_C5\": option[string], \"Sample_Maccabi_Ecoli_SeqPlate9_A6\": option[string], \"Sample_Maccabi_Ecoli_SeqPlate10_H3\": option[string], \"Sample_Maccabi_Ecoli_SeqPlate8_C5\": option[string], \"Sample_Maccabi_Ecoli_SeqPlate16_C9\": option[string], \"Sample_Maccabi_Ecoli_SeqPlate19_D4\": option[string], \"Sample_Maccabi_Ecoli_SeqPlate23_B5\": option[string], \"Sample_Maccabi_Ecoli_SeqPlate1_B6\": option[string], \"Sample_Maccabi_Ecoli_SeqPlate1_C6\": option[string], \"Sample_Maccabi_Ecoli_SeqPlate19_F3\": option[string], \"Sample_Maccabi_Ecoli_SeqPlate21_C9\": option[string], \"Sample_Maccabi_Ecoli_SeqPlate12_C10\": option[string], \"Sample_Maccabi_Ecoli_SeqPlate14_F1\": option[string], \"Sample_Maccabi_Ecoli_SeqPlate25_F3\": option[string], \"Sample_Maccabi_Ecoli_SeqPlate12_D5\": option[string], \"Sample_Maccabi_Ecoli_SeqPlate14_F4\": option[string], \"Sample_Maccabi_Ecoli_SeqPlate20_G10\": option[string], \"Sample_Maccabi_Ecoli_SeqPlate23_D11\": option[string], \"Sample_Maccabi_Ecoli_SeqPlate18_G8\": option[string], \"Sample_Maccabi_Ecoli_SeqPlate24_H3\": option[string], \"Sample_Maccabi_Ecoli_SeqPlate11_B4\": option[string], \"Sample_Maccabi_Ecoli_SeqPlate19_H11\": option[string], \"Sample_Maccabi_Ecoli_SeqPlate24_A6\": option[string], \"Sample_Maccabi_Ecoli_SeqPlate24_F7\": option[string], \"Sample_Maccabi_Ecoli_SeqPlate25_G8\": option[string], \"Sample_Maccabi_Ecoli_SeqPlate8_D9\": option[string], \"Sample_Maccabi_Ecoli_SeqPlate12_E5\": option[string], \"Sample_Maccabi_Ecoli_SeqPlate12_G7\": option[string], \"Sample_Maccabi_Ecoli_SeqPlate12_B1\": option[string], \"Sample_Maccabi_Ecoli_SeqPlate15_B10\": option[string], \"Sample_Maccabi_Ecoli_SeqPlate18_G12\": option[string], \"Sample_Maccabi_Ecoli_SeqPlate25_G7\": option[string], \"Sample_Maccabi_Ecoli_SeqPlate5_C8\": option[string], \"Sample_Maccabi_Ecoli_SeqPlate5_C9\": option[string], \"Sample_Maccabi_Ecoli_SeqPlate7_B2\": option[string], \"Sample_Maccabi_Ecoli_SeqPlate7_C2\": ?float64, \"Sample_Maccabi_Ecoli_SeqPlate7_F1\": option[string], \"Sample_Maccabi_Ecoli_SeqPlate7_G1\": option[string], \"Sample_Maccabi_Ecoli_SeqPlate17_H9\": option[string], \"Sample_Maccabi_Ecoli_SeqPlate18_H5\": option[string], \"Sample_Maccabi_Ecoli_SeqPlate13_D11\": option[string], \"Sample_Maccabi_Ecoli_SeqPlate14_G4\": option[string], \"Sample_Maccabi_Ecoli_SeqPlate21_B12\": option[string], \"Sample_Maccabi_Ecoli_SeqPlate5_B11\": option[string], \"Sample_Maccabi_Ecoli_SeqPlate12_F5\": option[string], \"Sample_Maccabi_Ecoli_SeqPlate14_A5\": option[string], \"Sample_Maccabi_Ecoli_SeqPlate16_D5\": option[string], \"Sample_Maccabi_Ecoli_SeqPlate19_G1\": option[string], \"Sample_Maccabi_Ecoli_SeqPlate21_B2\": option[string], \"Sample_Maccabi_Ecoli_SeqPlate23_A9\": option[string], \"Sample_Maccabi_Ecoli_SeqPlate23_G3\": option[string], \"Sample_Maccabi_Ecoli_SeqPlate8_H6\": option[string], \"Sample_Maccabi_Ecoli_SeqPlate9_G6\": option[string], \"Sample_Maccabi_Ecoli_SeqPlate12_F2\": option[string], \"Sample_Maccabi_Ecoli_SeqPlate13_F11\": option[string], \"Sample_Maccabi_Ecoli_SeqPlate15_G5\": option[string], \"Sample_Maccabi_Ecoli_SeqPlate19_F8\": option[string], \"Sample_Maccabi_Ecoli_SeqPlate1_H6\": option[string], \"Sample_Maccabi_Ecoli_SeqPlate6_F2\": option[string], \"Sample_Maccabi_Ecoli_SeqPlate10_B4\": ?float64, \"Sample_Maccabi_Ecoli_SeqPlate19_A5\": ?float64, \"Sample_Maccabi_Ecoli_SeqPlate21_H11\": option[string], \"Sample_Maccabi_Ecoli_SeqPlate7_F2\": option[string], \"Sample_Maccabi_Ecoli_SeqPlate7_G2\": option[string], \"Sample_Maccabi_Ecoli_SeqPlate14_G10\": option[string], \"Sample_Maccabi_Ecoli_SeqPlate19_C5\": option[string], \"Sample_Maccabi_Ecoli_SeqPlate13_D1\": option[string], \"Sample_Maccabi_Ecoli_SeqPlate14_A8\": option[string], \"Sample_Maccabi_Ecoli_SeqPlate7_B3\": option[string], \"Sample_Maccabi_Ecoli_SeqPlate7_C3\": option[string], \"Sample_Maccabi_Ecoli_SeqPlate10_C8\": option[string], \"Sample_Maccabi_Ecoli_SeqPlate9_F6\": option[string], \"Sample_Maccabi_Ecoli_SeqPlate10_G10\": option[string], \"Sample_Maccabi_Ecoli_SeqPlate11_C9\": option[string], \"Sample_Maccabi_Ecoli_SeqPlate1_C7\": option[string], \"Sample_Maccabi_Ecoli_SeqPlate3_G12\": option[string], \"Sample_Maccabi_Ecoli_SeqPlate11_H5\": option[string], \"Sample_Maccabi_Ecoli_SeqPlate15_C12\": option[string], \"Sample_Maccabi_Ecoli_SeqPlate7_A3\": option[string], \"Sample_Maccabi_Ecoli_SeqPlate7_H2\": option[string], \"Sample_Maccabi_Ecoli_SeqPlate1_C1\": option[string], \"Sample_Maccabi_Ecoli_SeqPlate1_D1\": option[string], \"Sample_Maccabi_Ecoli_SeqPlate7_D3\": option[string], \"Sample_Maccabi_Ecoli_SeqPlate7_E3\": option[string], \"Sample_Maccabi_Ecoli_SeqPlate18_G1\": option[string], \"Sample_Maccabi_Ecoli_SeqPlate21_B11\": option[string], \"Sample_Maccabi_Ecoli_SeqPlate8_A8\": option[string], \"Sample_Maccabi_Ecoli_SeqPlate8_B8\": option[string], \"Sample_Maccabi_Ecoli_SeqPlate13_G9\": option[string], \"Sample_Maccabi_Ecoli_SeqPlate15_B5\": option[string], \"Sample_Maccabi_Ecoli_SeqPlate12_H2\": option[string], \"Sample_Maccabi_Ecoli_SeqPlate15_G8\": option[string], \"Sample_Maccabi_Ecoli_SeqPlate8_C12\": option[string], \"Sample_Maccabi_Ecoli_SeqPlate8_D12\": option[string], \"Sample_Maccabi_Ecoli_SeqPlate8_C7\": option[string], \"Sample_Maccabi_Ecoli_SeqPlate9_C7\": option[string], \"Sample_Maccabi_Ecoli_SeqPlate10_H4\": option[string], \"Sample_Maccabi_Ecoli_SeqPlate12_H5\": option[string], \"Sample_Maccabi_Ecoli_SeqPlate17_B12\": option[string], \"Sample_Maccabi_Ecoli_SeqPlate19_B12\": option[string], \"Sample_Maccabi_Ecoli_SeqPlate1_D7\": option[string], \"Sample_Maccabi_Ecoli_SeqPlate1_E7\": option[string], \"Sample_Maccabi_Ecoli_SeqPlate5_F10\": option[string], \"Sample_Maccabi_Ecoli_SeqPlate5_F9\": option[string], \"Sample_Maccabi_Ecoli_SeqPlate20_B12\": option[string], \"Sample_Maccabi_Ecoli_SeqPlate23_F11\": option[string], \"Sample_Maccabi_Ecoli_SeqPlate7_D5\": option[string], \"Sample_Maccabi_Ecoli_SeqPlate7_E5\": option[string], \"Sample_Maccabi_Ecoli_SeqPlate11_B11\": option[string], \"Sample_Maccabi_Ecoli_SeqPlate11_D4\": option[string], \"Sample_Maccabi_Ecoli_SeqPlate18_F4\": option[string], \"Sample_Maccabi_Ecoli_SeqPlate21_B9\": option[string], \"Sample_Maccabi_Ecoli_SeqPlate11_D12\": option[string], \"Sample_Maccabi_Ecoli_SeqPlate13_F8\": option[string], \"Sample_Maccabi_Ecoli_SeqPlate8_A9\": option[string], \"Sample_Maccabi_Ecoli_SeqPlate8_B9\": option[string], \"Sample_Maccabi_Ecoli_SeqPlate7_A5\": option[string], \"Sample_Maccabi_Ecoli_SeqPlate7_H4\": option[string], \"Sample_Maccabi_Ecoli_SeqPlate13_E6\": option[string], \"Sample_Maccabi_Ecoli_SeqPlate15_G3\": option[string], \"Sample_Maccabi_Ecoli_SeqPlate16_A7\": option[string], \"Sample_Maccabi_Ecoli_SeqPlate19_B10\": option[string], \"Sample_Maccabi_Ecoli_SeqPlate7_G4\": option[string], \"Sample_Maccabi_Ecoli_SeqPlate8_D8\": option[string], \"Sample_Maccabi_Ecoli_SeqPlate9_A8\": option[string], \"Sample_Maccabi_Ecoli_SeqPlate9_G7\": option[string], \"Sample_Maccabi_Ecoli_SeqPlate9_H7\": option[string], \"Sample_Maccabi_Ecoli_SeqPlate7_B5\": option[string], \"Sample_Maccabi_Ecoli_SeqPlate7_C5\": option[string], \"Sample_Maccabi_Ecoli_SeqPlate1_E1\": option[string], \"Sample_Maccabi_Ecoli_SeqPlate1_F1\": option[string], \"Sample_Maccabi_Ecoli_SeqPlate15_C3\": option[string], \"Sample_Maccabi_Ecoli_SeqPlate25_D8\": option[string], \"Sample_Maccabi_Ecoli_SeqPlate1_F12\": option[string], \"Sample_Maccabi_Ecoli_SeqPlate1_G12\": option[string], \"Sample_Maccabi_Ecoli_SeqPlate1_H12\": option[string], \"Sample_Maccabi_Ecoli_SeqPlate3_D8\": option[string], \"Sample_Maccabi_Ecoli_SeqPlate3_H9\": option[string], \"Sample_Maccabi_Ecoli_SeqPlate15_H10\": option[string], \"Sample_Maccabi_Ecoli_SeqPlate18_G9\": option[string], \"Sample_Maccabi_Ecoli_SeqPlate8_G8\": option[string], \"Sample_Maccabi_Ecoli_SeqPlate9_C8\": option[string], \"Sample_Maccabi_Ecoli_SeqPlate13_F4\": option[string], \"Sample_Maccabi_Ecoli_SeqPlate17_C10\": option[string], \"Sample_Maccabi_Ecoli_SeqPlate8_G9\": option[string], \"Sample_Maccabi_Ecoli_SeqPlate8_H9\": option[string], \"Sample_Maccabi_Ecoli_SeqPlate12_F3\": option[string], \"Sample_Maccabi_Ecoli_SeqPlate15_D11\": option[string], \"Sample_Maccabi_Ecoli_SeqPlate3_H11\": option[string], \"Sample_Maccabi_Ecoli_SeqPlate8_F8\": option[string], \"Sample_Maccabi_Ecoli_SeqPlate18_B6\": option[string], \"Sample_Maccabi_Ecoli_SeqPlate23_A12\": option[string], \"Sample_Maccabi_Ecoli_SeqPlate2_C7\": option[string], \"Sample_Maccabi_Ecoli_SeqPlate2_D7\": option[string], \"Sample_Maccabi_Ecoli_SeqPlate12_C9\": option[string], \"Sample_Maccabi_Ecoli_SeqPlate12_G3\": option[string], \"Sample_Maccabi_Ecoli_SeqPlate11_G7\": option[string], \"Sample_Maccabi_Ecoli_SeqPlate12_H3\": option[string], \"Sample_Maccabi_Ecoli_SeqPlate8_F10\": option[string], \"Sample_Maccabi_Ecoli_SeqPlate9_H8\": option[string], \"Sample_Maccabi_Ecoli_SeqPlate1_D8\": option[string], \"Sample_Maccabi_Ecoli_SeqPlate1_E8\": option[string], \"Sample_Maccabi_Ecoli_SeqPlate13_D3\": option[string], \"Sample_Maccabi_Ecoli_SeqPlate16_H4\": option[string], \"Sample_Maccabi_Ecoli_SeqPlate23_D4\": option[string], \"Sample_Maccabi_Ecoli_SeqPlate23_G4\": option[string], \"Sample_Maccabi_Ecoli_SeqPlate8_G10\": option[string], \"Sample_Maccabi_Ecoli_SeqPlate9_A9\": option[string], \"Sample_Maccabi_Ecoli_SeqPlate10_C12\": option[string], \"Sample_Maccabi_Ecoli_SeqPlate13_G1\": option[string], \"Sample_Maccabi_Ecoli_SeqPlate14_A7\": option[string], \"Sample_Maccabi_Ecoli_SeqPlate10_E9\": option[string], \"Sample_Maccabi_Ecoli_SeqPlate11_F9\": option[string], \"Sample_Maccabi_Ecoli_SeqPlate10_H11\": option[string], \"Sample_Maccabi_Ecoli_SeqPlate11_F11\": option[string], \"Sample_Maccabi_Ecoli_SeqPlate16_B5\": option[string], \"Sample_Maccabi_Ecoli_SeqPlate21_F7\": option[string], \"Sample_Maccabi_Ecoli_SeqPlate1_F8\": option[string], \"Sample_Maccabi_Ecoli_SeqPlate1_G8\": option[string], \"Sample_Maccabi_Ecoli_SeqPlate3_B9\": option[string], \"Sample_Maccabi_Ecoli_SeqPlate3_H6\": option[string], \"Sample_Maccabi_Ecoli_SeqPlate11_C6\": option[string], \"Sample_Maccabi_Ecoli_SeqPlate19_B4\": option[string], \"Sample_Maccabi_Ecoli_SeqPlate22_B11\": option[string], \"Sample_Maccabi_Ecoli_SeqPlate23_H2\": option[string], \"Sample_Maccabi_Ecoli_SeqPlate11_C1\": option[string], \"Sample_Maccabi_Ecoli_SeqPlate15_A2\": option[string], \"Sample_Maccabi_Ecoli_SeqPlate8_H10\": option[string], \"Sample_Maccabi_Ecoli_SeqPlate9_A10\": option[string], \"Sample_Maccabi_Ecoli_SeqPlate10_E7\": option[string], \"Sample_Maccabi_Ecoli_SeqPlate9_B9\": option[string], \"Sample_Maccabi_Ecoli_SeqPlate8_H5\": option[string], \"Sample_Maccabi_Ecoli_SeqPlate9_C6\": option[string], \"Sample_Maccabi_Ecoli_SeqPlate12_C6\": option[string], \"Sample_Maccabi_Ecoli_SeqPlate14_D3\": option[string], \"Sample_Maccabi_Ecoli_SeqPlate10_G3\": option[string], \"Sample_Maccabi_Ecoli_SeqPlate10_G8\": option[string], \"Sample_Maccabi_Ecoli_SeqPlate11_G11\": option[string], \"Sample_Maccabi_Ecoli_SeqPlate12_A1\": option[string], \"Sample_Maccabi_Ecoli_SeqPlate8_A11\": option[string], \"Sample_Maccabi_Ecoli_SeqPlate8_B11\": option[string], \"Sample_Maccabi_Ecoli_SeqPlate10_F9\": option[string], \"Sample_Maccabi_Ecoli_SeqPlate10_H1\": option[string], \"Sample_Maccabi_Ecoli_SeqPlate15_F6\": option[string], \"Sample_Maccabi_Ecoli_SeqPlate15_G7\": option[string], \"Sample_Maccabi_Ecoli_SeqPlate19_F7\": option[string], \"Sample_Maccabi_Ecoli_SeqPlate11_A8\": option[string], \"Sample_Maccabi_Ecoli_SeqPlate12_D6\": option[string], \"Sample_Maccabi_Ecoli_SeqPlate22_C4\": option[string], \"Sample_Maccabi_Ecoli_SeqPlate22_D7\": option[string], \"Sample_Maccabi_Ecoli_SeqPlate10_H7\": option[string], \"Sample_Maccabi_Ecoli_SeqPlate13_B8\": option[string], \"Sample_Maccabi_Ecoli_SeqPlate9_D9\": option[string], \"Sample_Maccabi_Ecoli_SeqPlate9_B10\": option[string], \"Sample_Maccabi_Ecoli_SeqPlate9_E9\": option[string], \"Sample_Maccabi_Ecoli_SeqPlate1_B9\": option[string], \"Sample_Maccabi_Ecoli_SeqPlate1_C9\": option[string], \"Sample_Maccabi_Ecoli_SeqPlate1_D9\": option[string], \"Sample_Maccabi_Ecoli_SeqPlate7_A6\": option[string], \"Sample_Maccabi_Ecoli_SeqPlate7_H5\": option[string], \"Sample_Maccabi_Ecoli_SeqPlate5_A11\": option[string], \"Sample_Maccabi_Ecoli_SeqPlate5_A12\": option[string], \"Sample_Maccabi_Ecoli_SeqPlate5_B1\": option[string], \"Sample_Maccabi_Ecoli_SeqPlate15_H6\": option[string], \"Sample_Maccabi_Ecoli_SeqPlate16_A2\": option[string], \"Sample_Maccabi_Ecoli_SeqPlate22_H5\": option[string], \"Sample_Maccabi_Ecoli_SeqPlate23_A8\": option[string], \"Sample_Maccabi_Ecoli_SeqPlate20_A10\": option[string], \"Sample_Maccabi_Ecoli_SeqPlate23_H11\": option[string], \"Sample_Maccabi_Ecoli_SeqPlate12_A4\": option[string], \"Sample_Maccabi_Ecoli_SeqPlate19_H6\": option[string], \"Sample_Maccabi_Ecoli_SeqPlate5_C1\": option[string], \"Sample_Maccabi_Ecoli_SeqPlate5_C2\": option[string]}}\n"
     ]
    },
    {
     "output_type": "error",
     "ename": "ArrowNotImplementedError",
     "evalue": "Lists with non-zero length null components are not supported",
     "traceback": [
      "\u001b[0;31m----------------------------------------\u001b[0m",
      "\u001b[0;31mArrowNotImplementedError\u001b[0mTraceback (most recent call last)",
      "\u001b[0;32m<ipython-input-296-9c9038eef816>\u001b[0m in \u001b[0;36m<module>\u001b[0;34m\u001b[0m\n\u001b[1;32m     37\u001b[0m \u001b[0mprint\u001b[0m\u001b[0;34m(\u001b[0m\u001b[0mak\u001b[0m\u001b[0;34m.\u001b[0m\u001b[0mtype\u001b[0m\u001b[0;34m(\u001b[0m\u001b[0milp\u001b[0m\u001b[0;34m)\u001b[0m\u001b[0;34m)\u001b[0m\u001b[0;34m\u001b[0m\u001b[0;34m\u001b[0m\u001b[0m\n\u001b[1;32m     38\u001b[0m \u001b[0;34m\u001b[0m\u001b[0m\n\u001b[0;32m---> 39\u001b[0;31m \u001b[0mak\u001b[0m\u001b[0;34m.\u001b[0m\u001b[0mto_parquet\u001b[0m\u001b[0;34m(\u001b[0m\u001b[0milp\u001b[0m\u001b[0;34m,\u001b[0m \u001b[0mdatadir\u001b[0m\u001b[0;34m+\u001b[0m\u001b[0;34m\"/datastruct/up_to_pangenome.parquet\"\u001b[0m\u001b[0;34m)\u001b[0m\u001b[0;34m\u001b[0m\u001b[0;34m\u001b[0m\u001b[0m\n\u001b[0m",
      "\u001b[0;32m~/opt/miniconda3/envs/server-env/lib/python3.7/site-packages/awkward/operations/convert.py\u001b[0m in \u001b[0;36mto_parquet\u001b[0;34m(array, where, explode_records, list_to32, string_to32, bytestring_to32, **options)\u001b[0m\n\u001b[1;32m   2668\u001b[0m \u001b[0;34m\u001b[0m\u001b[0m\n\u001b[1;32m   2669\u001b[0m     \u001b[0mwriter\u001b[0m \u001b[0;34m=\u001b[0m \u001b[0mpyarrow\u001b[0m\u001b[0;34m.\u001b[0m\u001b[0mparquet\u001b[0m\u001b[0;34m.\u001b[0m\u001b[0mParquetWriter\u001b[0m\u001b[0;34m(\u001b[0m\u001b[0;34m**\u001b[0m\u001b[0moptions\u001b[0m\u001b[0;34m)\u001b[0m\u001b[0;34m\u001b[0m\u001b[0;34m\u001b[0m\u001b[0m\n\u001b[0;32m-> 2670\u001b[0;31m     \u001b[0mwriter\u001b[0m\u001b[0;34m.\u001b[0m\u001b[0mwrite_table\u001b[0m\u001b[0;34m(\u001b[0m\u001b[0mpyarrow\u001b[0m\u001b[0;34m.\u001b[0m\u001b[0mTable\u001b[0m\u001b[0;34m.\u001b[0m\u001b[0mfrom_batches\u001b[0m\u001b[0;34m(\u001b[0m\u001b[0;34m[\u001b[0m\u001b[0mfirst\u001b[0m\u001b[0;34m]\u001b[0m\u001b[0;34m)\u001b[0m\u001b[0;34m)\u001b[0m\u001b[0;34m\u001b[0m\u001b[0;34m\u001b[0m\u001b[0m\n\u001b[0m\u001b[1;32m   2671\u001b[0m \u001b[0;34m\u001b[0m\u001b[0m\n\u001b[1;32m   2672\u001b[0m     \u001b[0;32mtry\u001b[0m\u001b[0;34m:\u001b[0m\u001b[0;34m\u001b[0m\u001b[0;34m\u001b[0m\u001b[0m\n",
      "\u001b[0;32m~/opt/miniconda3/envs/server-env/lib/python3.7/site-packages/pyarrow/parquet.py\u001b[0m in \u001b[0;36mwrite_table\u001b[0;34m(self, table, row_group_size)\u001b[0m\n\u001b[1;32m    589\u001b[0m             \u001b[0;32mraise\u001b[0m \u001b[0mValueError\u001b[0m\u001b[0;34m(\u001b[0m\u001b[0mmsg\u001b[0m\u001b[0;34m)\u001b[0m\u001b[0;34m\u001b[0m\u001b[0;34m\u001b[0m\u001b[0m\n\u001b[1;32m    590\u001b[0m \u001b[0;34m\u001b[0m\u001b[0m\n\u001b[0;32m--> 591\u001b[0;31m         \u001b[0mself\u001b[0m\u001b[0;34m.\u001b[0m\u001b[0mwriter\u001b[0m\u001b[0;34m.\u001b[0m\u001b[0mwrite_table\u001b[0m\u001b[0;34m(\u001b[0m\u001b[0mtable\u001b[0m\u001b[0;34m,\u001b[0m \u001b[0mrow_group_size\u001b[0m\u001b[0;34m=\u001b[0m\u001b[0mrow_group_size\u001b[0m\u001b[0;34m)\u001b[0m\u001b[0;34m\u001b[0m\u001b[0;34m\u001b[0m\u001b[0m\n\u001b[0m\u001b[1;32m    592\u001b[0m \u001b[0;34m\u001b[0m\u001b[0m\n\u001b[1;32m    593\u001b[0m     \u001b[0;32mdef\u001b[0m \u001b[0mclose\u001b[0m\u001b[0;34m(\u001b[0m\u001b[0mself\u001b[0m\u001b[0;34m)\u001b[0m\u001b[0;34m:\u001b[0m\u001b[0;34m\u001b[0m\u001b[0;34m\u001b[0m\u001b[0m\n",
      "\u001b[0;32m~/opt/miniconda3/envs/server-env/lib/python3.7/site-packages/pyarrow/_parquet.pyx\u001b[0m in \u001b[0;36mpyarrow._parquet.ParquetWriter.write_table\u001b[0;34m()\u001b[0m\n",
      "\u001b[0;32m~/opt/miniconda3/envs/server-env/lib/python3.7/site-packages/pyarrow/error.pxi\u001b[0m in \u001b[0;36mpyarrow.lib.check_status\u001b[0;34m()\u001b[0m\n",
      "\u001b[0;31mArrowNotImplementedError\u001b[0m: Lists with non-zero length null components are not supported"
     ]
    }
   ],
   "source": [
    "# get all gene_presence_absence files (older version, works)\n",
    "\n",
    "\n",
    "import pyarrow as pa\n",
    "from pyarrow import csv\n",
    "import pyarrow.parquet as pq\n",
    "\n",
    "datadir=os.getcwd()+\"/PycharmProjects/mge-project/data/\"\n",
    "\n",
    "dirnames=np.char.add(np.asarray(datadir+\"/pangenome/\", dtype=str), np.asarray(ila.NewRandomID,dtype=str))\n",
    "filenames=np.char.add(dirnames,np.asarray('/gene_presence_absence.csv', dtype=str))\n",
    "\n",
    "isfile=[os.path.isfile(fn) for fn in filenames]\n",
    "\n",
    "def ak_string_to_int(akstr):\n",
    "    nparr=ak.to_numpy(akstr,allow_missing=True)\n",
    "    nparr=np.fromstring(nparr, dtype=int)\n",
    "    akint=ak.Array(nparr)\n",
    "    return akint\n",
    "\n",
    "ilp=ila\n",
    "\n",
    "roary_pd= [pd.read_csv(fn, error_bad_lines=False) for fn in filenames[isfile]]\n",
    "\n",
    "count=np.zeros((len(ilp),),dtype=int)\n",
    "count_r= [len(rpd.index) for rpd in roary_pd]\n",
    "count[isfile]=count_r\n",
    "\n",
    "merged_rpd=pd.concat(roary_pd, ignore_index=True)\n",
    "par=pa.Table.from_pandas(merged_rpd)\n",
    "rd=ak.from_arrow(par)\n",
    "\n",
    "rd=ak.unflatten(rd,count)\n",
    "\n",
    "ilp=ak.with_field(ilp, rd, where='Pangenome')\n",
    "\n",
    "print(ak.type(ilp))\n",
    "\n",
    "ak.to_parquet(ilp, datadir+\"/datastruct/up_to_pangenome.parquet\")"
   ]
  },
  {
   "cell_type": "code",
   "execution_count": null,
   "metadata": {},
   "outputs": [],
   "source": []
  }
 ],
 "metadata": {
  "kernelspec": {
   "display_name": "Python 3",
   "language": "python",
   "name": "python3"
  },
  "language_info": {
   "codemirror_mode": {
    "name": "ipython",
    "version": 2
   },
   "file_extension": ".py",
   "mimetype": "text/x-python",
   "name": "python",
   "nbconvert_exporter": "python",
   "pygments_lexer": "ipython2",
   "version": "3.7.9-final"
  }
 },
 "nbformat": 4,
 "nbformat_minor": 0
}