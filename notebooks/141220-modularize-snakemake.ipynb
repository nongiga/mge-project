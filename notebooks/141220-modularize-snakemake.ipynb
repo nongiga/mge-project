{
 "cells": [
  {
   "cell_type": "markdown",
   "source": [
    " ### To do\n",
    "+ move as many expressions to the config file\n",
    "+ make a rule file for each rule\n",
    "+ make a unique wrapper for each command"
   ],
   "metadata": {
    "collapsed": false
   }
  },
  {
   "cell_type": "markdown",
   "source": [
    "### installing mgefinder"
   ],
   "metadata": {
    "collapsed": false
   }
  }
 ],
 "metadata": {
  "kernelspec": {
   "display_name": "Python 3",
   "language": "python",
   "name": "python3"
  },
  "language_info": {
   "codemirror_mode": {
    "name": "ipython",
    "version": 2
   },
   "file_extension": ".py",
   "mimetype": "text/x-python",
   "name": "python",
   "nbconvert_exporter": "python",
   "pygments_lexer": "ipython2",
   "version": "2.7.6"
  }
 },
 "nbformat": 4,
 "nbformat_minor": 0
}